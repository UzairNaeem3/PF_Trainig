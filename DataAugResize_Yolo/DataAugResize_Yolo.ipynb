{
 "cells": [
  {
   "cell_type": "code",
   "execution_count": 1,
   "id": "8ab3d850",
   "metadata": {},
   "outputs": [],
   "source": [
    "import random\n",
    "import cv2\n",
    "import matplotlib.pyplot as plt\n",
    "import numpy as np\n",
    "import json\n",
    "import os"
   ]
  },
  {
   "cell_type": "code",
   "execution_count": 2,
   "id": "b2b439c7",
   "metadata": {},
   "outputs": [
    {
     "data": {
      "text/plain": [
       "'C:\\\\Users\\\\uzair\\\\Desktop\\\\Computer Vision\\\\cat_dog'"
      ]
     },
     "execution_count": 2,
     "metadata": {},
     "output_type": "execute_result"
    }
   ],
   "source": [
    "os.getcwd()\n",
    "os.chdir(r'C:\\\\Users\\\\uzair\\\\Desktop\\\\Computer Vision\\\\cat_dog')\n",
    "os.getcwd()"
   ]
  },
  {
   "cell_type": "code",
   "execution_count": 3,
   "id": "b0689da0",
   "metadata": {},
   "outputs": [],
   "source": [
    "if not os.path.exists(r'DataAugResize_Yolo\\Labels'):\n",
    "    os.makedirs(r'DataAugResize_Yolo\\Labels')"
   ]
  },
  {
   "cell_type": "code",
   "execution_count": 4,
   "id": "2564cc22",
   "metadata": {},
   "outputs": [],
   "source": [
    "with open('cat_dog_annotations.json') as f:\n",
    "    data = json.load(f)"
   ]
  },
  {
   "cell_type": "code",
   "execution_count": 7,
   "id": "5ce0255f",
   "metadata": {},
   "outputs": [],
   "source": [
    "class_names = []\n",
    "\n",
    "for j, (img_key, img_data) in enumerate(data['_via_img_metadata'].items()):\n",
    "    filename = img_data['filename']\n",
    "    regions = img_data['regions']\n",
    "    \n",
    "    image = cv2.imread(filename)\n",
    "    shape = image.shape\n",
    "    image_height, image_width = shape[0], shape[1]\n",
    "    \n",
    "    org_img_name = f'{j+1}_Original_image.jpeg'\n",
    "    cv2.imwrite(f'DataAugResize_Yolo/{org_img_name}', image)\n",
    "    \n",
    "    \n",
    "    \n",
    "    # Generate unique label file name for each image\n",
    "    label_file_name = f'{j+1}.txt'\n",
    "    \n",
    "    with open(os.path.join(r'DataAugResize_Yolo\\Labels', label_file_name), 'w') as file:\n",
    "        for region in regions:\n",
    "            x, y = region['shape_attributes']['x'], region['shape_attributes']['y']\n",
    "            w, h = region['shape_attributes']['width'], region['shape_attributes']['height']\n",
    "            label = list(region['region_attributes']['class'].keys())[0] \n",
    "\n",
    "            if label not in class_names:\n",
    "                class_names.append(label)\n",
    "\n",
    "            x_center = (x + w/2)/image_width\n",
    "            y_center = (y + h/2)/image_height\n",
    "            width = w/image_width\n",
    "            height = h/image_height\n",
    "            \n",
    "            class_index = class_names.index(label)\n",
    "            \n",
    "            # Write label to the current image's label file\n",
    "            file.write(f'{class_index} {x_center} {y_center} {width} {height}\\n')\n",
    "            \n",
    "        \n",
    "            for i in range(3):\n",
    "                scale = random.uniform(0.6, 1)\n",
    "                scaled_height = int(image_height * scale)\n",
    "                scaled_width = int(image_width * scale)\n",
    "                resized_image = cv2.resize(image, (scaled_width, scaled_height))\n",
    "                \n",
    "                resized_x, resized_y = int(x * scale), int(y * scale)\n",
    "                resized_w, resized_h  = int(w * scale), int(h * scale)\n",
    "                \n",
    "                resized_x_center = (resized_x + resized_w/2)/image_width\n",
    "                resized_y_center = (resized_y + resized_h/2)/image_height\n",
    "                resized_width = resized_w/image_width\n",
    "                resized_height = resized_h/image_height\n",
    "                \n",
    "                \n",
    "                with open(os.path.join(r'DataAugResize_Yolo\\Labels', f'{j+1}_resized_{i+1}.txt'), 'w') as resized_file:\n",
    "                    # Write label to the current image's brightness augmented label file\n",
    "                    resized_file.write(f'{class_index} {resized_x_center} {resized_y_center} {resized_width} {resized_height}\\n')\n",
    "\n",
    "                resized_img_name = f'{j+1}_resized_{i+1}.jpeg'\n",
    "                cv2.imwrite(f'DataAugResize_Yolo/{resized_img_name}', resized_image)"
   ]
  },
  {
   "cell_type": "code",
   "execution_count": null,
   "id": "a7d56d85",
   "metadata": {},
   "outputs": [],
   "source": []
  }
 ],
 "metadata": {
  "kernelspec": {
   "display_name": "Python 3 (ipykernel)",
   "language": "python",
   "name": "python3"
  },
  "language_info": {
   "codemirror_mode": {
    "name": "ipython",
    "version": 3
   },
   "file_extension": ".py",
   "mimetype": "text/x-python",
   "name": "python",
   "nbconvert_exporter": "python",
   "pygments_lexer": "ipython3",
   "version": "3.9.13"
  }
 },
 "nbformat": 4,
 "nbformat_minor": 5
}

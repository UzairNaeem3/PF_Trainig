{
 "cells": [
  {
   "cell_type": "code",
   "execution_count": 23,
   "id": "f4365fc6",
   "metadata": {},
   "outputs": [],
   "source": [
    "import random\n",
    "import cv2\n",
    "import matplotlib.pyplot as plt\n",
    "import numpy as np\n",
    "import json\n",
    "import os"
   ]
  },
  {
   "cell_type": "code",
   "execution_count": 24,
   "id": "9eaab5c4",
   "metadata": {},
   "outputs": [
    {
     "data": {
      "text/plain": [
       "'C:\\\\Users\\\\uzair\\\\Desktop\\\\Computer Vision\\\\cat_dog'"
      ]
     },
     "execution_count": 24,
     "metadata": {},
     "output_type": "execute_result"
    }
   ],
   "source": [
    "os.getcwd()\n",
    "os.chdir(r'C:\\\\Users\\\\uzair\\\\Desktop\\\\Computer Vision\\\\cat_dog')\n",
    "os.getcwd()"
   ]
  },
  {
   "cell_type": "code",
   "execution_count": 25,
   "id": "19b968a7",
   "metadata": {},
   "outputs": [],
   "source": [
    "if not os.path.exists(r'DataAug_Yolo\\Labels'):\n",
    "    os.makedirs(r'DataAug_Yolo\\Labels')"
   ]
  },
  {
   "cell_type": "code",
   "execution_count": 26,
   "id": "117f92c2",
   "metadata": {},
   "outputs": [],
   "source": [
    "with open('cat_dog_annotations.json') as f:\n",
    "    data = json.load(f)"
   ]
  },
  {
   "cell_type": "code",
   "execution_count": 55,
   "id": "84fbea72",
   "metadata": {},
   "outputs": [],
   "source": [
    "class_names = []\n",
    "\n",
    "for j, (img_key, img_data) in enumerate(data['_via_img_metadata'].items()):\n",
    "    filename = img_data['filename']\n",
    "    regions = img_data['regions']\n",
    "    \n",
    "    image = cv2.imread(filename)\n",
    "    shape = image.shape\n",
    "    image_height, image_width = shape[0], shape[1]\n",
    "    \n",
    "    org_img_name = f'{j+1}_Original_image.jpeg'\n",
    "    cv2.imwrite(f'DataAug_Yolo/{org_img_name}', image)\n",
    "    \n",
    "    # Generate unique label file name for each image\n",
    "    label_file_name = f'{j+1}.txt'\n",
    "    \n",
    "    with open(os.path.join(r'DataAug_Yolo\\Labels', label_file_name), 'w') as file:\n",
    "        for region in regions:\n",
    "            x, y = region['shape_attributes']['x'], region['shape_attributes']['y']\n",
    "            w, h = region['shape_attributes']['width'], region['shape_attributes']['height']\n",
    "            label = list(region['region_attributes']['class'].keys())[0]\n",
    "\n",
    "            if label not in class_names:\n",
    "                class_names.append(label)\n",
    "\n",
    "            x_center = (x + w/2)/image_width\n",
    "            y_center = (y + h/2)/image_height\n",
    "            width = w/image_width\n",
    "            height = h/image_height\n",
    "            \n",
    "            class_index = class_names.index(label)\n",
    "            \n",
    "            # Write label to the current image's label file\n",
    "            file.write(f'{class_index} {x_center} {y_center} {width} {height}\\n')\n",
    "            \n",
    "            for i in range(5):\n",
    "                contrast = 1\n",
    "                brightness = random.uniform(1.1, 1.5)\n",
    "                bright_image = cv2.addWeighted(image, brightness, image, 0, contrast)      \n",
    "\n",
    "                mean = 0\n",
    "                sigma = random.randint(30, 50)\n",
    "                gaussian_noise = np.random.normal(mean, sigma, shape)\n",
    "                noised_image = cv2.add(image, gaussian_noise.astype(np.uint8))\n",
    "\n",
    "                with open(os.path.join(r'DataAug_Yolo\\Labels', f'{j+1}_brightness_{i+1}.txt'), 'w') as bright_file:\n",
    "                    # Write label to the current image's brightness augmented label file\n",
    "                    bright_file.write(f'{class_index} {x_center} {y_center} {width} {height}\\n')\n",
    "\n",
    "                bright_img_name = f'{j+1}_brightness_{i+1}.jpeg'\n",
    "                cv2.imwrite(f'DataAug_Yolo/{bright_img_name}', bright_image)\n",
    "\n",
    "                with open(os.path.join(r'DataAug_Yolo\\Labels', f'{j+1}_noise_{i+1}.txt'), 'w') as noise_file:\n",
    "                    # Write label to the current image's noise augmented label file\n",
    "                    noise_file.write(f'{class_index} {x_center} {y_center} {width} {height}\\n')\n",
    "\n",
    "                noised_img_name = f'{j+1}_noise_{i+1}.jpeg'\n",
    "                cv2.imwrite(f'DataAug_Yolo/{noised_img_name}', noised_image)\n"
   ]
  },
  {
   "cell_type": "code",
   "execution_count": null,
   "id": "97787204",
   "metadata": {},
   "outputs": [],
   "source": []
  }
 ],
 "metadata": {
  "kernelspec": {
   "display_name": "Python 3 (ipykernel)",
   "language": "python",
   "name": "python3"
  },
  "language_info": {
   "codemirror_mode": {
    "name": "ipython",
    "version": 3
   },
   "file_extension": ".py",
   "mimetype": "text/x-python",
   "name": "python",
   "nbconvert_exporter": "python",
   "pygments_lexer": "ipython3",
   "version": "3.9.13"
  }
 },
 "nbformat": 4,
 "nbformat_minor": 5
}

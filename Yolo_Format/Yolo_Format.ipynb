{
 "cells": [
  {
   "cell_type": "code",
   "execution_count": 4,
   "id": "27cc6278",
   "metadata": {},
   "outputs": [
    {
     "data": {
      "text/plain": [
       "'C:\\\\Users\\\\uzair\\\\Desktop\\\\Computer Vision\\\\cat_dog'"
      ]
     },
     "execution_count": 4,
     "metadata": {},
     "output_type": "execute_result"
    }
   ],
   "source": [
    "import os\n",
    "import cv2\n",
    "import json\n",
    "os.chdir(r'C:\\Users\\uzair\\Desktop\\Computer Vision\\cat_dog')\n",
    "os.getcwd()"
   ]
  },
  {
   "cell_type": "code",
   "execution_count": 9,
   "id": "b3adb2ca",
   "metadata": {},
   "outputs": [],
   "source": [
    "# Define the empty class names that stores your class names\n",
    "class_names = []\n",
    "\n",
    "# Load the VIA annotations from the JSON file\n",
    "with open('cat_dog_annotations.json', 'r') as f:\n",
    "    data = json.load(f)\n",
    "\n",
    "# Create the 'Yolo_Format' directory if it doesn't exist\n",
    "if not os.path.exists('Yolo_Format'):\n",
    "    os.makedirs('Yolo_Format')\n",
    "\n",
    "    \n",
    "# Iterate through each image in the annotations\n",
    "for img_key, img_values in data['_via_img_metadata'].items():\n",
    "    filename = img_values['filename']\n",
    "    # Get the image filename and size\n",
    "    img_filename = img_values['filename']\n",
    "    image = cv2.imread(filename)\n",
    "    img_height, img_width = image.shape[:2]\n",
    "    # Create a new file to write the YOLO format annotations\n",
    "    with open(os.path.join('Yolo_Format', os.path.splitext(img_filename)[0] + '.txt'), 'w') as f:\n",
    "        # Iterate through each object in the image\n",
    "        for obj in img_values['regions']:\n",
    "            # Get the class label and bounding box coordinates\n",
    "            class_label = list(obj['region_attributes']['class'])[0]\n",
    "            bbox = obj['shape_attributes']\n",
    "            \n",
    "            # Getting class names in dataset\n",
    "            if class_label not in class_names:\n",
    "                class_names.append(class_label)\n",
    "\n",
    "            # Convert the bounding box coordinates to YOLO format\n",
    "            x_center = (bbox['x'] + bbox['width'] / 2) / img_width\n",
    "            y_center = (bbox['y'] + bbox['height'] / 2) / img_height\n",
    "            width = bbox['width'] / img_width\n",
    "            height = bbox['height'] / img_height\n",
    "\n",
    "            # Write the YOLO format annotations to the file\n",
    "            class_index = class_names.index(class_label)\n",
    "            f.write(f\"{class_index} {x_center} {y_center} {width} {height}\\n\")"
   ]
  },
  {
   "cell_type": "code",
   "execution_count": 19,
   "id": "01ce5764",
   "metadata": {},
   "outputs": [
    {
     "name": "stdout",
     "output_type": "stream",
     "text": [
      "0 0.7465 0.5202020202020202 0.269 0.3939393939393939\n",
      "1 0.4545 0.5606060606060606 0.267 0.2727272727272727\n",
      "\n"
     ]
    }
   ],
   "source": [
    "# Reading 7th file in the yolo directory who has 2 objects\n",
    "\n",
    "file = open('Yolo_Format/7.txt')\n",
    "print(file.read())\n",
    "    "
   ]
  },
  {
   "cell_type": "code",
   "execution_count": null,
   "id": "8b00d200",
   "metadata": {},
   "outputs": [],
   "source": []
  }
 ],
 "metadata": {
  "kernelspec": {
   "display_name": "Python 3 (ipykernel)",
   "language": "python",
   "name": "python3"
  },
  "language_info": {
   "codemirror_mode": {
    "name": "ipython",
    "version": 3
   },
   "file_extension": ".py",
   "mimetype": "text/x-python",
   "name": "python",
   "nbconvert_exporter": "python",
   "pygments_lexer": "ipython3",
   "version": "3.9.13"
  }
 },
 "nbformat": 4,
 "nbformat_minor": 5
}

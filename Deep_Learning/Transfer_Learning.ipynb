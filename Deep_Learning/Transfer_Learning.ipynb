{
 "cells": [
  {
   "cell_type": "markdown",
   "id": "515af5e0",
   "metadata": {},
   "source": [
    "### Installing Emnist dataset"
   ]
  },
  {
   "cell_type": "code",
   "execution_count": 1,
   "id": "8a37bd13",
   "metadata": {},
   "outputs": [
    {
     "name": "stdout",
     "output_type": "stream",
     "text": [
      "Requirement already satisfied: emnist in c:\\users\\uzair\\anaconda3\\lib\\site-packages (0.0)\n",
      "Requirement already satisfied: requests in c:\\users\\uzair\\appdata\\roaming\\python\\python39\\site-packages (from emnist) (2.28.2)\n",
      "Requirement already satisfied: tqdm in c:\\users\\uzair\\anaconda3\\lib\\site-packages (from emnist) (4.64.1)\n",
      "Requirement already satisfied: numpy in c:\\users\\uzair\\anaconda3\\lib\\site-packages (from emnist) (1.24.2)\n",
      "Requirement already satisfied: urllib3<1.27,>=1.21.1 in c:\\users\\uzair\\appdata\\roaming\\python\\python39\\site-packages (from requests->emnist) (1.26.15)\n",
      "Requirement already satisfied: charset-normalizer<4,>=2 in c:\\users\\uzair\\anaconda3\\lib\\site-packages (from requests->emnist) (2.0.4)\n",
      "Requirement already satisfied: idna<4,>=2.5 in c:\\users\\uzair\\anaconda3\\lib\\site-packages (from requests->emnist) (2.6)\n",
      "Requirement already satisfied: certifi>=2017.4.17 in c:\\users\\uzair\\anaconda3\\lib\\site-packages (from requests->emnist) (2022.9.14)\n",
      "Requirement already satisfied: colorama in c:\\users\\uzair\\anaconda3\\lib\\site-packages (from tqdm->emnist) (0.4.5)\n",
      "Note: you may need to restart the kernel to use updated packages.\n"
     ]
    }
   ],
   "source": [
    "pip install emnist"
   ]
  },
  {
   "cell_type": "markdown",
   "id": "7cc511d8",
   "metadata": {},
   "source": [
    "### Importing necessary libraries"
   ]
  },
  {
   "cell_type": "code",
   "execution_count": 13,
   "id": "2f1b1ead",
   "metadata": {},
   "outputs": [],
   "source": [
    "import tensorflow\n",
    "from tensorflow.keras.models import Model, Sequential, load_model\n",
    "from tensorflow.keras.layers import Conv2D, MaxPooling2D, Dense, Flatten\n",
    "from tensorflow.keras.utils import to_categorical"
   ]
  },
  {
   "cell_type": "code",
   "execution_count": 14,
   "id": "b43e302d",
   "metadata": {},
   "outputs": [],
   "source": [
    "from emnist import list_datasets"
   ]
  },
  {
   "cell_type": "code",
   "execution_count": 15,
   "id": "eda6dcdd",
   "metadata": {},
   "outputs": [
    {
     "data": {
      "text/plain": [
       "['balanced', 'byclass', 'bymerge', 'digits', 'letters', 'mnist']"
      ]
     },
     "execution_count": 15,
     "metadata": {},
     "output_type": "execute_result"
    }
   ],
   "source": [
    "# All classes in the emnist dataset\n",
    "list_datasets()"
   ]
  },
  {
   "cell_type": "code",
   "execution_count": 16,
   "id": "b473c79d",
   "metadata": {},
   "outputs": [],
   "source": [
    "from emnist import extract_training_samples, extract_test_samples"
   ]
  },
  {
   "cell_type": "code",
   "execution_count": 17,
   "id": "208ce58b",
   "metadata": {},
   "outputs": [
    {
     "data": {
      "image/png": "[encoded data removed]",
      "text/plain": [
       "<Figure size 640x480 with 1 Axes>"
      ]
     },
     "metadata": {},
     "output_type": "display_data"
    }
   ],
   "source": [
    "# Checking my dataset\n",
    "\n",
    "import matplotlib.pyplot as plt\n",
    "\n",
    "# Load the EMNIST dataset\n",
    "x_train, y_train = extract_training_samples('digits')\n",
    "x_test, y_test = extract_test_samples('digits')\n",
    "# Display an image from the training dataset\n",
    "plt.imshow(x_train[0], cmap='gray')\n",
    "plt.axis('off')\n",
    "plt.show()"
   ]
  },
  {
   "cell_type": "code",
   "execution_count": 18,
   "id": "d2737218",
   "metadata": {},
   "outputs": [
    {
     "data": {
      "text/plain": [
       "((240000, 28, 28, 1), (40000, 28, 28, 1))"
      ]
     },
     "execution_count": 18,
     "metadata": {},
     "output_type": "execute_result"
    }
   ],
   "source": [
    "# Preprocess the data\n",
    "x_train = x_train.reshape(-1, 28, 28, 1).astype('float32') / 255.0\n",
    "x_test = x_test.reshape(-1, 28, 28, 1).astype('float32') / 255.0\n",
    "\n",
    "x_train.shape, x_test.shape"
   ]
  },
  {
   "cell_type": "code",
   "execution_count": 19,
   "id": "0c0cf900",
   "metadata": {},
   "outputs": [],
   "source": [
    "# One hot encode target values\n",
    "y_train = tensorflow.keras.utils.to_categorical(y_train)\n",
    "y_test = tensorflow.keras.utils.to_categorical(y_test)"
   ]
  },
  {
   "cell_type": "code",
   "execution_count": 20,
   "id": "78a46367",
   "metadata": {},
   "outputs": [],
   "source": [
    "# Load the pre-trained CNN MNIST model\n",
    "base_model = tensorflow.keras.models.load_model('mnist_model.h5')"
   ]
  },
  {
   "cell_type": "code",
   "execution_count": 26,
   "id": "a9a5a68e",
   "metadata": {},
   "outputs": [],
   "source": [
    "# Modify the architecture\n",
    "x = Flatten()(base_model.output)\n",
    "x = Dense(256, activation='relu')(x)\n",
    "output = Dense(10, activation='softmax')(x)"
   ]
  },
  {
   "cell_type": "code",
   "execution_count": 27,
   "id": "719fe154",
   "metadata": {},
   "outputs": [],
   "source": [
    "# Create the transfer learning model\n",
    "transfer_model = Model(inputs=base_model.input, outputs=output)"
   ]
  },
  {
   "cell_type": "code",
   "execution_count": 28,
   "id": "d926609a",
   "metadata": {},
   "outputs": [],
   "source": [
    "# Freeze pre-trained layers\n",
    "for layer in base_model.layers:\n",
    "    layer.trainable = False"
   ]
  },
  {
   "cell_type": "code",
   "execution_count": 29,
   "id": "3d22ebe5",
   "metadata": {},
   "outputs": [],
   "source": [
    "# Compile the model\n",
    "transfer_model.compile(optimizer='adam', loss='categorical_crossentropy', metrics=['accuracy'])"
   ]
  },
  {
   "cell_type": "code",
   "execution_count": 30,
   "id": "5b474f6d",
   "metadata": {},
   "outputs": [
    {
     "name": "stdout",
     "output_type": "stream",
     "text": [
      "Epoch 1/5\n",
      "3750/3750 [==============================] - 56s 15ms/step - loss: 0.1947 - accuracy: 0.9590 - val_loss: 0.1436 - val_accuracy: 0.9655\n",
      "Epoch 2/5\n",
      "3750/3750 [==============================] - 63s 17ms/step - loss: 0.1365 - accuracy: 0.9676 - val_loss: 0.1314 - val_accuracy: 0.9687\n",
      "Epoch 3/5\n",
      "3750/3750 [==============================] - 54s 14ms/step - loss: 0.1249 - accuracy: 0.9698 - val_loss: 0.1220 - val_accuracy: 0.9701\n",
      "Epoch 4/5\n",
      "3750/3750 [==============================] - 56s 15ms/step - loss: 0.1170 - accuracy: 0.9709 - val_loss: 0.1141 - val_accuracy: 0.9706\n",
      "Epoch 5/5\n",
      "3750/3750 [==============================] - 85s 23ms/step - loss: 0.1108 - accuracy: 0.9716 - val_loss: 0.1086 - val_accuracy: 0.9714\n"
     ]
    },
    {
     "data": {
      "text/plain": [
       "<keras.callbacks.History at 0x2102a7d6a00>"
      ]
     },
     "execution_count": 30,
     "metadata": {},
     "output_type": "execute_result"
    }
   ],
   "source": [
    "# Train the model\n",
    "transfer_model.fit(x_train, y_train, batch_size=64, epochs=5, validation_data=(x_test, y_test))"
   ]
  },
  {
   "cell_type": "code",
   "execution_count": 31,
   "id": "74834cf6",
   "metadata": {},
   "outputs": [
    {
     "name": "stdout",
     "output_type": "stream",
     "text": [
      "Test loss: 0.10862409323453903\n",
      "Test accuracy: 0.9714499711990356\n"
     ]
    }
   ],
   "source": [
    "# Evaluate the model\n",
    "score = transfer_model.evaluate(x_test, y_test, verbose=0)\n",
    "print('Test loss:', score[0])\n",
    "print('Test accuracy:', score[1])"
   ]
  },
  {
   "cell_type": "code",
   "execution_count": 37,
   "id": "3919c0e5",
   "metadata": {},
   "outputs": [
    {
     "name": "stdout",
     "output_type": "stream",
     "text": [
      "7\n"
     ]
    }
   ],
   "source": [
    "import numpy as np\n",
    "\n",
    "# Predictions on the test set\n",
    "\n",
    "# Single value prediction in number\n",
    "# Taking the 57th image from the test set and returns the index of the class with the highest probability\n",
    "predictions = transfer_model.predict(x_test, verbose = 0)\n",
    "print(np.argmax(np.round(predictions[999])))"
   ]
  },
  {
   "cell_type": "code",
   "execution_count": 38,
   "id": "2dbbb9d3",
   "metadata": {},
   "outputs": [
    {
     "data": {
      "image/png": "[encoded data removed]",
      "text/plain": [
       "<Figure size 640x480 with 1 Axes>"
      ]
     },
     "metadata": {},
     "output_type": "display_data"
    }
   ],
   "source": [
    "# Single value prediction in graph (plot)\n",
    "\n",
    "# This will display the binary image corresponding to the 57th test sample from the MNIST dataset\n",
    "plt.imshow(x_test[999].reshape(28,28), cmap = plt.cm.binary)\n",
    "plt.show()"
   ]
  },
  {
   "cell_type": "code",
   "execution_count": null,
   "id": "c76775d1",
   "metadata": {},
   "outputs": [],
   "source": []
  }
 ],
 "metadata": {
  "kernelspec": {
   "display_name": "Python 3 (ipykernel)",
   "language": "python",
   "name": "python3"
  },
  "language_info": {
   "codemirror_mode": {
    "name": "ipython",
    "version": 3
   },
   "file_extension": ".py",
   "mimetype": "text/x-python",
   "name": "python",
   "nbconvert_exporter": "python",
   "pygments_lexer": "ipython3",
   "version": "3.9.13"
  }
 },
 "nbformat": 4,
 "nbformat_minor": 5
}

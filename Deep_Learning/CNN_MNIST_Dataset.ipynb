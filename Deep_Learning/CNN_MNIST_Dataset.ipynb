{
 "cells": [
  {
   "cell_type": "markdown",
   "id": "fc41f3e7",
   "metadata": {},
   "source": [
    "## Practice: Train CNN for MNIST dataset."
   ]
  },
  {
   "cell_type": "code",
   "execution_count": 29,
   "id": "e2ec0f13",
   "metadata": {},
   "outputs": [
    {
     "name": "stdout",
     "output_type": "stream",
     "text": [
      "Train: X=(60000, 28, 28), y=(60000,)\n",
      "Test: X=(10000, 28, 28), y=(10000,)\n"
     ]
    },
    {
     "data": {
      "image/png": "[encoded data removed]",
      "text/plain": [
       "<Figure size 640x480 with 9 Axes>"
      ]
     },
     "metadata": {},
     "output_type": "display_data"
    }
   ],
   "source": [
    "# Example of loading the mnist dataset\n",
    "import numpy as np\n",
    "from tensorflow.keras.datasets import mnist\n",
    "from matplotlib import pyplot as plt\n",
    "# load dataset\n",
    "(trainX, trainy), (testX, testy) = mnist.load_data()\n",
    "# summarize loaded dataset\n",
    "print('Train: X=%s, y=%s' % (trainX.shape, trainy.shape))\n",
    "print('Test: X=%s, y=%s' % (testX.shape, testy.shape))\n",
    "# plot first few images\n",
    "for i in range(9):\n",
    " # define subplot\n",
    " plt.subplot(330 + 1 + i)\n",
    " # plot raw pixel data\n",
    " plt.imshow(trainX[i], cmap=plt.get_cmap('gray'))\n",
    "# show the figure\n",
    "plt.show()"
   ]
  },
  {
   "cell_type": "code",
   "execution_count": 5,
   "id": "826391af",
   "metadata": {},
   "outputs": [
    {
     "name": "stdout",
     "output_type": "stream",
     "text": [
      "Epoch 1/10\n",
      "938/938 [==============================] - 39s 38ms/step - loss: 0.1757 - accuracy: 0.9463 - val_loss: 0.0448 - val_accuracy: 0.9857\n",
      "Epoch 2/10\n",
      "938/938 [==============================] - 40s 43ms/step - loss: 0.0484 - accuracy: 0.9847 - val_loss: 0.0376 - val_accuracy: 0.9873\n",
      "Epoch 3/10\n",
      "938/938 [==============================] - 37s 40ms/step - loss: 0.0354 - accuracy: 0.9888 - val_loss: 0.0365 - val_accuracy: 0.9878\n",
      "Epoch 4/10\n",
      "938/938 [==============================] - 37s 39ms/step - loss: 0.0272 - accuracy: 0.9915 - val_loss: 0.0310 - val_accuracy: 0.9905\n",
      "Epoch 5/10\n",
      "938/938 [==============================] - 37s 39ms/step - loss: 0.0224 - accuracy: 0.9926 - val_loss: 0.0332 - val_accuracy: 0.9887\n",
      "Epoch 6/10\n",
      "938/938 [==============================] - 38s 40ms/step - loss: 0.0184 - accuracy: 0.9941 - val_loss: 0.0264 - val_accuracy: 0.9908\n",
      "Epoch 7/10\n",
      "938/938 [==============================] - 38s 41ms/step - loss: 0.0144 - accuracy: 0.9956 - val_loss: 0.0290 - val_accuracy: 0.9914\n",
      "Epoch 8/10\n",
      "938/938 [==============================] - 38s 40ms/step - loss: 0.0119 - accuracy: 0.9959 - val_loss: 0.0333 - val_accuracy: 0.9918\n",
      "Epoch 9/10\n",
      "938/938 [==============================] - 38s 41ms/step - loss: 0.0108 - accuracy: 0.9966 - val_loss: 0.0303 - val_accuracy: 0.9911\n",
      "Epoch 10/10\n",
      "938/938 [==============================] - 38s 40ms/step - loss: 0.0088 - accuracy: 0.9973 - val_loss: 0.0347 - val_accuracy: 0.9914\n"
     ]
    },
    {
     "data": {
      "text/plain": [
       "<keras.callbacks.History at 0x28bcdfd9040>"
      ]
     },
     "execution_count": 5,
     "metadata": {},
     "output_type": "execute_result"
    }
   ],
   "source": [
    "from tensorflow.keras.datasets import mnist\n",
    "from tensorflow.keras.models import Sequential\n",
    "from tensorflow.keras.layers import Conv2D, MaxPooling2D, Dense, Flatten\n",
    "from tensorflow.keras.utils import to_categorical\n",
    "\n",
    "# Load the MNIST dataset\n",
    "(train_X, train_y), (test_X, test_y) = mnist.load_data()\n",
    "\n",
    "\n",
    "# Preprocessing the data\n",
    "\n",
    "# Reshape dataset to have single channel\n",
    "train_X = train_X.reshape((train_X.shape[0], 28, 28, 1))\n",
    "test_X = test_X.reshape((test_X.shape[0], 28, 28, 1))\n",
    "\n",
    "# Convert from integers to floats\n",
    "train_X = train_X.astype('float32') \n",
    "test_X = test_X.astype('float32')\n",
    "\n",
    "# Normalize the pixel values in the range [0,1]\n",
    "train_X = train_X/255.0\n",
    "test_X = test_X/255.0\n",
    "\n",
    "# One hot encode target values\n",
    "train_y = to_categorical(train_y)\n",
    "test_y = to_categorical(test_y)\n",
    "\n",
    "# Define the model \n",
    "model = Sequential()\n",
    "# First convolutional layer with 32 filters of size 3x3 and RELU activation function\n",
    "model.add(Conv2D(32, (3, 3), activation='relu', input_shape=(28, 28, 1)))\n",
    "# 2D Max pooling layer with a pool size of 2x2\n",
    "model.add(MaxPooling2D((2, 2)))\n",
    "# Second convolutional layer with 64 filters of size 3x3 and RELU activation function\n",
    "model.add(Conv2D(64, (3, 3), activation='relu'))\n",
    "# Antoher 2D Max pooling layer with a pool size of 2x2\n",
    "model.add(MaxPooling2D((2, 2)))\n",
    "# Third convolutional layer with 64 filters of size 3x3 and ReLU activation function\n",
    "model.add(Conv2D(64, (3, 3), activation='relu'))\n",
    "# Flattening the output of previous layer into a 1D vector\n",
    "model.add(Flatten())\n",
    "# Adding a hidden neural network layer with 64 neurons and ReLU activation\n",
    "model.add(Dense(64, activation='relu'))\n",
    "# Adding the final fully connected neural network layer with 10 neurons (one for each digit class in the MNIST dataset)\n",
    "# and softmax activation\n",
    "model.add(Dense(10, activation='softmax'))\n",
    "\n",
    "# Compile the model\n",
    "model.compile(optimizer='adam',\n",
    "              loss='categorical_crossentropy',\n",
    "              metrics=['accuracy'])\n",
    "\n",
    "# Train the model\n",
    "model.fit(train_X, train_y, epochs=10, batch_size=64, validation_data=(test_X, test_y))\n"
   ]
  },
  {
   "cell_type": "code",
   "execution_count": 23,
   "id": "ec01f42f",
   "metadata": {},
   "outputs": [
    {
     "name": "stdout",
     "output_type": "stream",
     "text": [
      "loss =  0.034734584391117096\n",
      "accuracy =  0.9914000034332275\n"
     ]
    }
   ],
   "source": [
    "# Evaluating the model on the test set \n",
    "score = model.evaluate(test_X, test_y, verbose = 0)\n",
    "print('loss = ', score[0])\n",
    "print('accuracy = ', score[1])"
   ]
  },
  {
   "cell_type": "code",
   "execution_count": 36,
   "id": "5ac6c059",
   "metadata": {},
   "outputs": [
    {
     "name": "stdout",
     "output_type": "stream",
     "text": [
      "4\n"
     ]
    }
   ],
   "source": [
    "# Predictions on the test set\n",
    "\n",
    "# Single value prediction in number\n",
    "# Taking the 57th image from the test set and returns the index of the class with the highest probability\n",
    "predictions = model.predict(test_X, verbose = 0)\n",
    "print(np.argmax(np.round(predictions[56])))"
   ]
  },
  {
   "cell_type": "code",
   "execution_count": 37,
   "id": "521631b4",
   "metadata": {},
   "outputs": [
    {
     "data": {
      "image/png": "[encoded data removed]",
      "text/plain": [
       "<Figure size 640x480 with 1 Axes>"
      ]
     },
     "metadata": {},
     "output_type": "display_data"
    }
   ],
   "source": [
    "# Single value prediction in graph (plot)\n",
    "\n",
    "# This will display the image corresponding to the 57th test sample from the MNIST dataset\n",
    "plt.imshow(test_X[56].reshape(28,28), cmap = plt.cm.binary)\n",
    "plt.show()"
   ]
  },
  {
   "cell_type": "code",
   "execution_count": null,
   "id": "6d4991d2",
   "metadata": {},
   "outputs": [],
   "source": []
  }
 ],
 "metadata": {
  "kernelspec": {
   "display_name": "Python 3 (ipykernel)",
   "language": "python",
   "name": "python3"
  },
  "language_info": {
   "codemirror_mode": {
    "name": "ipython",
    "version": 3
   },
   "file_extension": ".py",
   "mimetype": "text/x-python",
   "name": "python",
   "nbconvert_exporter": "python",
   "pygments_lexer": "ipython3",
   "version": "3.9.13"
  }
 },
 "nbformat": 4,
 "nbformat_minor": 5
}

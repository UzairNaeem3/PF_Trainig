{
 "cells": [
  {
   "cell_type": "markdown",
   "id": "fc41f3e7",
   "metadata": {},
   "source": [
    "## Practice: Train CNN for MNIST dataset."
   ]
  },
  {
   "cell_type": "code",
   "execution_count": 1,
   "id": "e2ec0f13",
   "metadata": {},
   "outputs": [
    {
     "name": "stdout",
     "output_type": "stream",
     "text": [
      "Train: X=(60000, 28, 28), y=(60000,)\n",
      "Test: X=(10000, 28, 28), y=(10000,)\n"
     ]
    },
    {
     "data": {
      "image/png": "[encoded data removed]",
      "text/plain": [
       "<Figure size 640x480 with 9 Axes>"
      ]
     },
     "metadata": {},
     "output_type": "display_data"
    }
   ],
   "source": [
    "# Example of loading the mnist dataset\n",
    "import numpy as np\n",
    "from tensorflow.keras.datasets import mnist\n",
    "from matplotlib import pyplot as plt\n",
    "# load dataset\n",
    "(trainX, trainy), (testX, testy) = mnist.load_data()\n",
    "# summarize loaded dataset\n",
    "print('Train: X=%s, y=%s' % (trainX.shape, trainy.shape))\n",
    "print('Test: X=%s, y=%s' % (testX.shape, testy.shape))\n",
    "# plot first few images\n",
    "for i in range(9):\n",
    " # define subplot\n",
    " plt.subplot(330 + 1 + i)\n",
    " # plot raw pixel data\n",
    " plt.imshow(trainX[i], cmap=plt.get_cmap('gray'))\n",
    "# show the figure\n",
    "plt.show()"
   ]
  },
  {
   "cell_type": "code",
   "execution_count": 2,
   "id": "826391af",
   "metadata": {},
   "outputs": [
    {
     "name": "stdout",
     "output_type": "stream",
     "text": [
      "Epoch 1/10\n",
      "938/938 [==============================] - 45s 45ms/step - loss: 0.1786 - accuracy: 0.9457 - val_loss: 0.0424 - val_accuracy: 0.9855\n",
      "Epoch 2/10\n",
      "938/938 [==============================] - 44s 46ms/step - loss: 0.0502 - accuracy: 0.9844 - val_loss: 0.0329 - val_accuracy: 0.9885\n",
      "Epoch 3/10\n",
      "938/938 [==============================] - 41s 43ms/step - loss: 0.0343 - accuracy: 0.9891 - val_loss: 0.0364 - val_accuracy: 0.9883\n",
      "Epoch 4/10\n",
      "938/938 [==============================] - 39s 42ms/step - loss: 0.0269 - accuracy: 0.9915 - val_loss: 0.0288 - val_accuracy: 0.9905\n",
      "Epoch 5/10\n",
      "938/938 [==============================] - 42s 45ms/step - loss: 0.0213 - accuracy: 0.9931 - val_loss: 0.0267 - val_accuracy: 0.9915\n",
      "Epoch 6/10\n",
      "938/938 [==============================] - 42s 45ms/step - loss: 0.0178 - accuracy: 0.9942 - val_loss: 0.0327 - val_accuracy: 0.9904\n",
      "Epoch 7/10\n",
      "938/938 [==============================] - 42s 44ms/step - loss: 0.0140 - accuracy: 0.9955 - val_loss: 0.0293 - val_accuracy: 0.9905\n",
      "Epoch 8/10\n",
      "938/938 [==============================] - 42s 44ms/step - loss: 0.0125 - accuracy: 0.9960 - val_loss: 0.0254 - val_accuracy: 0.9917\n",
      "Epoch 9/10\n",
      "938/938 [==============================] - 42s 45ms/step - loss: 0.0115 - accuracy: 0.9963 - val_loss: 0.0286 - val_accuracy: 0.9923\n",
      "Epoch 10/10\n",
      "938/938 [==============================] - 42s 44ms/step - loss: 0.0105 - accuracy: 0.9966 - val_loss: 0.0273 - val_accuracy: 0.9904\n"
     ]
    }
   ],
   "source": [
    "from tensorflow.keras.datasets import mnist\n",
    "from tensorflow.keras.models import Sequential\n",
    "from tensorflow.keras.layers import Conv2D, MaxPooling2D, Dense, Flatten\n",
    "from tensorflow.keras.utils import to_categorical\n",
    "\n",
    "# Load the MNIST dataset\n",
    "(train_X, train_y), (test_X, test_y) = mnist.load_data()\n",
    "\n",
    "\n",
    "# Preprocessing the data\n",
    "\n",
    "# Reshape dataset to have single channel\n",
    "train_X = train_X.reshape((train_X.shape[0], 28, 28, 1))\n",
    "test_X = test_X.reshape((test_X.shape[0], 28, 28, 1))\n",
    "\n",
    "# Convert from integers to floats\n",
    "train_X = train_X.astype('float32') \n",
    "test_X = test_X.astype('float32')\n",
    "\n",
    "# Normalize the pixel values in the range [0,1]\n",
    "train_X = train_X/255.0\n",
    "test_X = test_X/255.0\n",
    "\n",
    "# One hot encode target values\n",
    "train_y = to_categorical(train_y)\n",
    "test_y = to_categorical(test_y)\n",
    "\n",
    "# Define the model \n",
    "model = Sequential()\n",
    "# First convolutional layer with 32 filters of size 3x3 and RELU activation function\n",
    "model.add(Conv2D(32, (3, 3), activation='relu', input_shape=(28, 28, 1)))\n",
    "# 2D Max pooling layer with a pool size of 2x2\n",
    "model.add(MaxPooling2D((2, 2)))\n",
    "# Second convolutional layer with 64 filters of size 3x3 and RELU activation function\n",
    "model.add(Conv2D(64, (3, 3), activation='relu'))\n",
    "# Antoher 2D Max pooling layer with a pool size of 2x2\n",
    "model.add(MaxPooling2D((2, 2)))\n",
    "# Third convolutional layer with 64 filters of size 3x3 and ReLU activation function\n",
    "model.add(Conv2D(64, (3, 3), activation='relu'))\n",
    "# Flattening the output of previous layer into a 1D vector\n",
    "model.add(Flatten())\n",
    "# Adding a hidden neural network layer with 64 neurons and ReLU activation\n",
    "model.add(Dense(64, activation='relu'))\n",
    "# Adding the final fully connected neural network layer with 10 neurons (one for each digit class in the MNIST dataset)\n",
    "# and softmax activation\n",
    "model.add(Dense(10, activation='softmax'))\n",
    "\n",
    "# Compile the model\n",
    "model.compile(optimizer='adam',\n",
    "              loss='categorical_crossentropy',\n",
    "              metrics=['accuracy'])\n",
    "\n",
    "# Train the model\n",
    "model.fit(train_X, train_y, epochs=10, batch_size=64, validation_data=(test_X, test_y))\n",
    "\n",
    "model.save('mnist_model.h5')"
   ]
  },
  {
   "cell_type": "code",
   "execution_count": 3,
   "id": "ec01f42f",
   "metadata": {},
   "outputs": [
    {
     "name": "stdout",
     "output_type": "stream",
     "text": [
      "loss =  0.027259457856416702\n",
      "accuracy =  0.9904000163078308\n"
     ]
    }
   ],
   "source": [
    "# Evaluating the model on the test set \n",
    "score = model.evaluate(test_X, test_y, verbose = 0)\n",
    "print('loss = ', score[0])\n",
    "print('accuracy = ', score[1])"
   ]
  },
  {
   "cell_type": "code",
   "execution_count": 7,
   "id": "5ac6c059",
   "metadata": {},
   "outputs": [
    {
     "name": "stdout",
     "output_type": "stream",
     "text": [
      "7\n"
     ]
    }
   ],
   "source": [
    "# Predictions on the test set\n",
    "\n",
    "# Single value prediction in number\n",
    "# Taking the 57th image from the test set and returns the index of the class with the highest probability\n",
    "predictions = model.predict(test_X, verbose = 0)\n",
    "print(np.argmax(np.round(predictions[5999])))"
   ]
  },
  {
   "cell_type": "code",
   "execution_count": 9,
   "id": "521631b4",
   "metadata": {
    "scrolled": true
   },
   "outputs": [
    {
     "data": {
      "image/png": "[encoded data removed]",
      "text/plain": [
       "<Figure size 640x480 with 1 Axes>"
      ]
     },
     "metadata": {},
     "output_type": "display_data"
    }
   ],
   "source": [
    "# Single value prediction in graph (plot)\n",
    "\n",
    "# This will display the binary image corresponding to the 57th test sample from the MNIST dataset\n",
    "plt.imshow(test_X[5999].reshape(28,28), cmap = plt.cm.binary)\n",
    "plt.show()"
   ]
  },
  {
   "cell_type": "markdown",
   "id": "816c73e2",
   "metadata": {},
   "source": [
    "# "
   ]
  },
  {
   "cell_type": "markdown",
   "id": "09df6b20",
   "metadata": {},
   "source": [
    "## Hyperparameters and Optimizers"
   ]
  },
  {
   "cell_type": "markdown",
   "id": "d8823a08",
   "metadata": {},
   "source": [
    "##### Now I will change activation function, number of layers, batch size and epochs to check my model on different hyperparameters and optimizers"
   ]
  },
  {
   "cell_type": "code",
   "execution_count": 28,
   "id": "4c4f7bb2",
   "metadata": {},
   "outputs": [],
   "source": [
    "from keras.layers import Activation\n",
    "\n",
    "opt_model = Sequential()\n",
    "opt_model.add(Conv2D(64, (3,3), activation='tanh', input_shape=(28, 28, 1)))\n",
    "opt_model.add(MaxPooling2D(pool_size=(2,2)))\n",
    "opt_model.add(Conv2D(64, (3,3), activation='tanh'))\n",
    "opt_model.add(MaxPooling2D((2, 2)))\n",
    "opt_model.add(Flatten())\n",
    "opt_model.add(Dense(64))\n",
    "opt_model.add(Dense(10))\n",
    "opt_model.add(Activation('sigmoid'))\n",
    "\n",
    "opt_model.compile(optimizer='adam',\n",
    "              loss='categorical_crossentropy',\n",
    "              metrics=['accuracy'])"
   ]
  },
  {
   "cell_type": "code",
   "execution_count": 29,
   "id": "a4562b24",
   "metadata": {},
   "outputs": [
    {
     "name": "stdout",
     "output_type": "stream",
     "text": [
      "Epoch 1/5\n",
      "938/938 [==============================] - 65s 69ms/step - loss: 0.1548 - accuracy: 0.9536 - val_loss: 0.0541 - val_accuracy: 0.9816\n",
      "Epoch 2/5\n",
      "938/938 [==============================] - 65s 70ms/step - loss: 0.0619 - accuracy: 0.9814 - val_loss: 0.0464 - val_accuracy: 0.9864\n",
      "Epoch 3/5\n",
      "938/938 [==============================] - 67s 71ms/step - loss: 0.0459 - accuracy: 0.9859 - val_loss: 0.0512 - val_accuracy: 0.9837\n",
      "Epoch 4/5\n",
      "938/938 [==============================] - 69s 73ms/step - loss: 0.0401 - accuracy: 0.9875 - val_loss: 0.0550 - val_accuracy: 0.9838\n",
      "Epoch 5/5\n",
      "938/938 [==============================] - 71s 76ms/step - loss: 0.0331 - accuracy: 0.9893 - val_loss: 0.0498 - val_accuracy: 0.9846\n"
     ]
    },
    {
     "data": {
      "text/plain": [
       "<keras.callbacks.History at 0x1fc8e56d9a0>"
      ]
     },
     "execution_count": 29,
     "metadata": {},
     "output_type": "execute_result"
    }
   ],
   "source": [
    "opt_model.fit(train_X, train_y, epochs=5, batch_size=64, validation_data=(test_X, test_y))"
   ]
  },
  {
   "cell_type": "code",
   "execution_count": 31,
   "id": "c1d7db5d",
   "metadata": {},
   "outputs": [
    {
     "name": "stdout",
     "output_type": "stream",
     "text": [
      "loss =  0.049817025661468506\n",
      "accuracy =  0.9846000075340271\n"
     ]
    }
   ],
   "source": [
    "loss, accuracy = opt_model.evaluate(test_X, test_y, verbose = 0)\n",
    "print('loss = ', loss)\n",
    "print('accuracy = ', accuracy)"
   ]
  },
  {
   "cell_type": "code",
   "execution_count": 40,
   "id": "517ac162",
   "metadata": {},
   "outputs": [
    {
     "name": "stdout",
     "output_type": "stream",
     "text": [
      "0\n"
     ]
    }
   ],
   "source": [
    "opt_predictions = opt_model.predict(test_X, verbose = 0)\n",
    "print(np.argmax(np.round(opt_predictions[10])))"
   ]
  },
  {
   "cell_type": "code",
   "execution_count": 41,
   "id": "04870840",
   "metadata": {},
   "outputs": [
    {
     "data": {
      "image/png": "[encoded data removed]",
      "text/plain": [
       "<Figure size 640x480 with 1 Axes>"
      ]
     },
     "metadata": {},
     "output_type": "display_data"
    }
   ],
   "source": [
    "plt.imshow(test_X[10].reshape(28,28), cmap = plt.cm.binary)\n",
    "plt.show()"
   ]
  },
  {
   "cell_type": "code",
   "execution_count": null,
   "id": "4e317d6a",
   "metadata": {},
   "outputs": [],
   "source": []
  }
 ],
 "metadata": {
  "kernelspec": {
   "display_name": "Python 3 (ipykernel)",
   "language": "python",
   "name": "python3"
  },
  "language_info": {
   "codemirror_mode": {
    "name": "ipython",
    "version": 3
   },
   "file_extension": ".py",
   "mimetype": "text/x-python",
   "name": "python",
   "nbconvert_exporter": "python",
   "pygments_lexer": "ipython3",
   "version": "3.9.13"
  }
 },
 "nbformat": 4,
 "nbformat_minor": 5
}

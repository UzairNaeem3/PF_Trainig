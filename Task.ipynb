{
 "cells": [
  {
   "cell_type": "code",
   "execution_count": 1,
   "id": "ba452dd7",
   "metadata": {},
   "outputs": [
    {
     "name": "stdout",
     "output_type": "stream",
     "text": [
      "Number of lines: 12\n",
      "Number of words: 102\n"
     ]
    }
   ],
   "source": [
    "def count_lines_and_words(filename):\n",
    "    num_lines = 0\n",
    "    num_words = 0\n",
    "\n",
    "    with open(filename, 'r') as f:\n",
    "        for line in f:\n",
    "            num_lines += 1\n",
    "            words = line.split()\n",
    "            num_words += len(words)\n",
    "\n",
    "    return num_lines, num_words\n",
    "\n",
    "filename = r'C:\\Users\\uzair\\Desktop\\Instructions.txt'\n",
    "num_lines, num_words = count_lines_and_words(filename)\n",
    "print(f\"Number of lines: {num_lines}\")\n",
    "print(f\"Number of words: {num_words}\")\n"
   ]
  },
  {
   "cell_type": "code",
   "execution_count": null,
   "id": "034d8e12",
   "metadata": {},
   "outputs": [],
   "source": []
  }
 ],
 "metadata": {
  "kernelspec": {
   "display_name": "Python 3 (ipykernel)",
   "language": "python",
   "name": "python3"
  },
  "language_info": {
   "codemirror_mode": {
    "name": "ipython",
    "version": 3
   },
   "file_extension": ".py",
   "mimetype": "text/x-python",
   "name": "python",
   "nbconvert_exporter": "python",
   "pygments_lexer": "ipython3",
   "version": "3.9.13"
  }
 },
 "nbformat": 4,
 "nbformat_minor": 5
}
